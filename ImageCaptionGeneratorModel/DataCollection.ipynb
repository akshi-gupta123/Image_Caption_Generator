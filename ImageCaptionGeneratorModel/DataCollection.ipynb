{
 "cells": [
  {
   "cell_type": "code",
   "execution_count": 1,
   "id": "6081d3b3",
   "metadata": {},
   "outputs": [],
   "source": [
    "import tensorflow as tf\n",
    "import os"
   ]
  },
  {
   "cell_type": "code",
   "execution_count": 2,
   "id": "6f4db91b",
   "metadata": {},
   "outputs": [
    {
     "name": "stdout",
     "output_type": "stream",
     "text": [
      "Downloading data from http://images.cocodataset.org/annotations/annotations_trainval2014.zip\n",
      "252878848/252872794 [==============================] - 7s 0us/step\n"
     ]
    }
   ],
   "source": [
    "# Download caption annotation files\n",
    "annotation_folder = '/annotations/'\n",
    "annotation_zip = tf.keras.utils.get_file('captions.zip',\n",
    "                                       cache_subdir=os.path.abspath('.'),\n",
    "                                       origin='http://images.cocodataset.org/annotations/annotations_trainval2014.zip',\n",
    "                                       extract=True)\n",
    "annotation_file = os.path.dirname(annotation_zip)+'/annotations/captions_train2014.json'\n",
    "os.remove(annotation_zip)"
   ]
  },
  {
   "cell_type": "code",
   "execution_count": 3,
   "id": "710dd369",
   "metadata": {},
   "outputs": [
    {
     "name": "stdout",
     "output_type": "stream",
     "text": [
      "Downloading data from http://images.cocodataset.org/zips/train2014.zip\n",
      "13510574080/13510573713 [==============================] - 253s 0us/step\n"
     ]
    }
   ],
   "source": [
    "# Download image files\n",
    "image_folder = '/train2014/'\n",
    "image_zip = tf.keras.utils.get_file('train2014.zip',\n",
    "                                  cache_subdir=os.path.abspath('.'),\n",
    "                                  origin='http://images.cocodataset.org/zips/train2014.zip',\n",
    "                                  extract=True)\n",
    "PATH = os.path.dirname(image_zip) + image_folder\n",
    "os.remove(image_zip)"
   ]
  },
  {
   "cell_type": "code",
   "execution_count": null,
   "id": "0d16b4d1",
   "metadata": {},
   "outputs": [],
   "source": []
  }
 ],
 "metadata": {
  "kernelspec": {
   "display_name": "conda_tensorflow2_p36",
   "language": "python",
   "name": "conda_tensorflow2_p36"
  },
  "language_info": {
   "codemirror_mode": {
    "name": "ipython",
    "version": 3
   },
   "file_extension": ".py",
   "mimetype": "text/x-python",
   "name": "python",
   "nbconvert_exporter": "python",
   "pygments_lexer": "ipython3",
   "version": "3.6.13"
  }
 },
 "nbformat": 4,
 "nbformat_minor": 5
}
